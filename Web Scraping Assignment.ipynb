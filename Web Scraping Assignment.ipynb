{
 "cells": [
  {
   "cell_type": "markdown",
   "id": "08c64f93",
   "metadata": {},
   "source": [
    "# Q1. What is Web Scraping? Why is it Used? Give three areas where Web Scraping is used to get data."
   ]
  },
  {
   "cell_type": "markdown",
   "id": "3b419e70",
   "metadata": {},
   "source": [
    "__Ans. :__<br>\n",
    "\n",
    "Web scraping is an automatic method to obtain large amounts of data from websites. Most of this data is unstructured data in an HTML format which is then converted into structured data in a spreadsheet or a database so that it can be used in various applications. \n",
    "\n",
    "Web scraping is used in a variety of digital businesses that rely on data harvesting. Legitimate use cases include: Search engine bots crawling a site, analyzing its content and then ranking it. Price comparison sites deploying bots to auto-fetch prices and product descriptions for allied seller websites.\n",
    "\n",
    "### Most Common Uses of Web Scraping:\n",
    "1. Lead Generation for Marketing\n",
    "2. Price Comparison & Competition Monitoring\n",
    "3. E-Commerce\n",
    "4. Data Analysis"
   ]
  },
  {
   "cell_type": "markdown",
   "id": "6c20da31",
   "metadata": {},
   "source": [
    "# Q2. What are the different methods used for Web Scraping?"
   ]
  },
  {
   "cell_type": "markdown",
   "id": "beb5d508",
   "metadata": {},
   "source": [
    "__Ans. :__<br>\n",
    "\n",
    "There are different methods used for web scraping :\n",
    "\n",
    "1. Human copy-and-paste\n",
    "2. Text pattern matching\n",
    "3. HTTP programming\n",
    "4. HTML parsing\n",
    "5. DOM parsing\n",
    "6. Vertical aggeregation\n",
    "7. Semantic annotation recognizing\n",
    "8. Computer vision web-page analysis."
   ]
  },
  {
   "cell_type": "markdown",
   "id": "5cb6fa2d",
   "metadata": {},
   "source": [
    "# Q3. What is Beautiful Soup? Why is it used?"
   ]
  },
  {
   "cell_type": "markdown",
   "id": "fc86e84f",
   "metadata": {},
   "source": [
    "__Ans. :__<br>\n",
    "\n",
    "Beautiful Soup is a Python package for parsing HTML and XML documents (including having malformed markup, i.e. non-closed tags, so named after tag soup). It creates a parse tree for parsed pages that can be used to extract data from HTML, which is useful for web scraping.\n",
    "\n",
    "Beautiful Soup provides simple methods for navigating, searching, and modifying a parse tree in HTML, XML files. It transforms a complex HTML document into a tree of Python objects. It also automatically converts the document to Unicode, so you don't have to think about encodings."
   ]
  },
  {
   "cell_type": "markdown",
   "id": "59e2432e",
   "metadata": {},
   "source": [
    "# Q4. Why is flask used in this Web Scraping project?"
   ]
  },
  {
   "cell_type": "markdown",
   "id": "84aad731",
   "metadata": {},
   "source": [
    "__Ans. :__<br>\n",
    "Flask is a lightweight framework to build websites. We'll use this to parse our collected data and display it as HTML in a new HTML file. The requests module allows us to send http requests to the website we want to scrape. The first line imports the Flask class and the render_template method from the flask library."
   ]
  },
  {
   "cell_type": "markdown",
   "id": "97b9eb80",
   "metadata": {},
   "source": [
    "# Q5. Write the names of AWS services used in this project. Also, explain the use of each service."
   ]
  },
  {
   "cell_type": "markdown",
   "id": "6a0c8a5b",
   "metadata": {},
   "source": [
    "__Ans. :__<br>\n",
    "\n",
    "### 1. Amazon EC2:\n",
    "You don’t have to invest in costly physical services. Instead, you can create virtual machines with Amazon EC2 while managing other server features such as ports, security, and storage. Spend less time maintaining your servers and more time on your strategic projects. Invariably, Amazon EC2 is one of the most popular and fastest-growing of the many AWS services.\n",
    "\n",
    "### 2. Amazon VPC:\n",
    "If you are ready to isolate your entire IT infrastructure from exposure, then the only way to do it is with Amazon VPS. This service creates a private virtual network that cannot be accessed by anyone or anything except the people and systems you authorize.\n",
    "\n",
    "### 3. AWS Beanstalk:\n",
    "Developers have to deal with enough headaches as it is. AWS Beanstalk was created to help developers manage website infrastructure. It’s difficult for developers to switch from development to maintenance at the drop of a hat. Yet, AWS Beanstalk offers autoscaling to ensure automatic updates of new software. And, this service runs automatically.\n",
    "\n",
    "AWS Beanstalk really is a timesaver. It automates the setup, configuration, and provisioning of other AWS services such as EC2, RDS, and S3. Not to mention, the automated setup also helps to mitigate human error.\n",
    "\n",
    "### 4. AWS Lambda:\n",
    "When your server is inundated with an influx of requests, are you overwhelmed without knowing precisely how to respond? It’s quite possible your current server infrastructure cannot support the demands of your current speed of development. In this case, AWS Lambda is designed to support any load of development. You handle the coding, and AWS Lambda will offer the right amounts of support and required resources while scaling to ensure your systems are no longer stretched past capacity.\n",
    "\n",
    "### 5. AWS Autoscaling:\n",
    "If your organization is planning for any growth, then you need an IT infrastructure that can offer the necessary support. AWS Autoscaling can manage fleets of servers and the incoming traffic. Multiple instances are created when needed. It’s almost as if you can never grow large enough.\n",
    "\n",
    "It also offers predictive scaling and provisions the perfect amount of EC2 instances ahead of future traffic such as seasonal spikes. Moreover, using machine learning algorithms, it can detect daily and weekly patterns and adjust accordingly."
   ]
  },
  {
   "cell_type": "code",
   "execution_count": null,
   "id": "48d8f270",
   "metadata": {},
   "outputs": [],
   "source": []
  }
 ],
 "metadata": {
  "kernelspec": {
   "display_name": "Python 3 (ipykernel)",
   "language": "python",
   "name": "python3"
  },
  "language_info": {
   "codemirror_mode": {
    "name": "ipython",
    "version": 3
   },
   "file_extension": ".py",
   "mimetype": "text/x-python",
   "name": "python",
   "nbconvert_exporter": "python",
   "pygments_lexer": "ipython3",
   "version": "3.9.7"
  }
 },
 "nbformat": 4,
 "nbformat_minor": 5
}
